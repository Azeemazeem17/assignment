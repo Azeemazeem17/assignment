{
  "nbformat": 4,
  "nbformat_minor": 0,
  "metadata": {
    "colab": {
      "provenance": [],
      "authorship_tag": "ABX9TyMzZLWGxnmGmY+eU0x4DNjX",
      "include_colab_link": true
    },
    "kernelspec": {
      "name": "python3",
      "display_name": "Python 3"
    },
    "language_info": {
      "name": "python"
    }
  },
  "cells": [
    {
      "cell_type": "markdown",
      "metadata": {
        "id": "view-in-github",
        "colab_type": "text"
      },
      "source": [
        "<a href=\"https://colab.research.google.com/github/Azeemazeem17/assignment/blob/main/Azeem_case_study_on_Statistics_.ipynb\" target=\"_parent\"><img src=\"https://colab.research.google.com/assets/colab-badge.svg\" alt=\"Open In Colab\"/></a>"
      ]
    },
    {
      "cell_type": "markdown",
      "source": [
        " 1. Dataset: Monthly temperatures in a city (in °C): 12, 15, 14, 16, 18, 20, 22, 19,\n",
        " 17, 15, 13, 10 Questions:\n",
        " a) Calculate the mean temperature.\n",
        " b) Calculate the median temperature.\n",
        " c) Find the mode of the temperature data.\n",
        " d) Range and Variance\n",
        "\n"
      ],
      "metadata": {
        "id": "4-EExIB1jC2l"
      }
    },
    {
      "cell_type": "code",
      "source": [
        "# Dataset\n",
        "temps = [12, 15, 14, 16, 18, 20, 22, 19, 17, 15, 13, 10]\n",
        "n = len(temps)\n",
        "\n",
        "# a) Mean\n",
        "sum_temp = 0\n",
        "for t in temps:\n",
        "    sum_temp += t\n",
        "mean_temp = sum_temp / n\n",
        "\n",
        "# b) Median\n",
        "# Sort the data first\n",
        "sorted_temps = sorted(temps)\n",
        "if n % 2 == 0:  # even number of elements\n",
        "    mid1 = sorted_temps[n//2 - 1]\n",
        "    mid2 = sorted_temps[n//2]\n",
        "    median_temp = (mid1 + mid2) / 2\n",
        "else:  # odd number of elements\n",
        "    median_temp = sorted_temps[n//2]\n",
        "\n",
        "# c) Mode (find most frequent value)\n",
        "freq = {}\n",
        "for t in temps:\n",
        "    if t in freq:\n",
        "        freq[t] += 1\n",
        "    else:\n",
        "        freq[t] = 1\n",
        "mode_temp = max(freq, key=freq.get)  # value with max frequency\n",
        "\n",
        "# d) Range\n",
        "range_temp = max(temps) - min(temps)\n",
        "\n",
        "# Variance\n",
        "variance_sum = 0\n",
        "for t in temps:\n",
        "    variance_sum += (t - mean_temp) ** 2\n",
        "variance_temp = variance_sum / n   # population variance\n",
        "\n",
        "# Print results\n",
        "print(\"Mean Temperature:\", mean_temp)\n",
        "print(\"Median Temperature:\", median_temp)\n",
        "print(\"Mode Temperature:\", mode_temp)\n",
        "print(\"Range:\", range_temp)\n",
        "print(\"Variance:\", variance_temp)\n"
      ],
      "metadata": {
        "colab": {
          "base_uri": "https://localhost:8080/"
        },
        "id": "IxQLZJ1pnizq",
        "outputId": "6b2ef1a8-9a4b-41b0-8aeb-4c8c180128aa"
      },
      "execution_count": 5,
      "outputs": [
        {
          "output_type": "stream",
          "name": "stdout",
          "text": [
            "Mean Temperature: 15.916666666666666\n",
            "Median Temperature: 15.5\n",
            "Mode Temperature: 15\n",
            "Range: 12\n",
            "Variance: 11.076388888888888\n"
          ]
        }
      ]
    },
    {
      "cell_type": "markdown",
      "source": [
        "2. Dataset: Heights of students (in cm): 150, 160, 165, 170, 155, 160, 162, 168\n",
        "Questions: a) Calculate the range of the heights.\n",
        "b) Calculate the variance of the heights.\n",
        "c) Standard Deviation"
      ],
      "metadata": {
        "id": "EDRUjCcCpauJ"
      }
    },
    {
      "cell_type": "code",
      "source": [
        "# Dataset\n",
        "heights = [150, 160, 165, 170, 155, 160, 162, 168]\n",
        "n = len(heights)\n",
        "\n",
        "# a) Range\n",
        "range_height = max(heights) - min(heights)\n",
        "\n",
        "# b) Variance\n",
        "# Step 1: Find mean\n",
        "sum_height = 0\n",
        "for h in heights:\n",
        "    sum_height += h\n",
        "mean_height = sum_height / n\n",
        "\n",
        "# Step 2: Find squared differences from mean\n",
        "variance_sum = 0\n",
        "for h in heights:\n",
        "    variance_sum += (h - mean_height) ** 2\n",
        "variance_height = variance_sum / n   # population variance\n",
        "\n",
        "# c) Standard Deviation = sqrt(variance)\n",
        "# (without math module)\n",
        "std_dev_height = variance_height ** 0.5\n",
        "\n",
        "# Print results\n",
        "print(\"Range of Heights:\", range_height)\n",
        "print(\"Variance of Heights:\", variance_height)\n",
        "print(\"Standard Deviation of Heights:\", std_dev_height)\n"
      ],
      "metadata": {
        "colab": {
          "base_uri": "https://localhost:8080/"
        },
        "id": "szl9Yncdo9ID",
        "outputId": "9d41e128-75d6-43b1-e1f1-8962a97e4ee1"
      },
      "execution_count": 6,
      "outputs": [
        {
          "output_type": "stream",
          "name": "stdout",
          "text": [
            "Range of Heights: 20\n",
            "Variance of Heights: 38.1875\n",
            "Standard Deviation of Heights: 6.179603547154137\n"
          ]
        }
      ]
    },
    {
      "cell_type": "markdown",
      "source": [
        "3. Dataset: Weekly expenses (in $): 200, 250, 300, 220, 270, 290, 310\n",
        "Questions: a) Calculate the standard deviation of the weekly expenses."
      ],
      "metadata": {
        "id": "W7RzD3I_p6fB"
      }
    },
    {
      "cell_type": "code",
      "source": [
        "# Dataset\n",
        "expenses = [200, 250, 300, 220, 270, 290, 310]\n",
        "n = len(expenses)\n",
        "\n",
        "# Step 1: Mean\n",
        "sum_exp = 0\n",
        "for e in expenses:\n",
        "    sum_exp += e\n",
        "mean_exp = sum_exp / n\n",
        "\n",
        "# Step 2: Variance (population variance)\n",
        "variance_sum = 0\n",
        "for e in expenses:\n",
        "    variance_sum += (e - mean_exp) ** 2\n",
        "variance_exp = variance_sum / n\n",
        "\n",
        "# Step 3: Standard Deviation = sqrt(variance)\n",
        "std_dev_exp = variance_exp ** 0.5\n",
        "\n",
        "# Print result\n",
        "print(\"Standard Deviation of Weekly Expenses:\", std_dev_exp)\n"
      ],
      "metadata": {
        "colab": {
          "base_uri": "https://localhost:8080/"
        },
        "id": "-A-TX2yGpwqF",
        "outputId": "8e6c08fd-4cc6-4bb0-93d1-fa61f56c040b"
      },
      "execution_count": 7,
      "outputs": [
        {
          "output_type": "stream",
          "name": "stdout",
          "text": [
            "Standard Deviation of Weekly Expenses: 38.438925848782034\n"
          ]
        }
      ]
    },
    {
      "cell_type": "markdown",
      "source": [
        "4. Dataset: Advertising Spending (in $1000s): 10, 20, 15, 25, 30; Sales (in\n",
        "$1000s): 100, 150, 120, 180, 200\n",
        "Questions: a) Calculate the covariance between advertising spending and sales.\n",
        "b) Correlation"
      ],
      "metadata": {
        "id": "Cugg6LX7qJCb"
      }
    },
    {
      "cell_type": "code",
      "source": [
        "# Dataset\n",
        "x = [10, 20, 15, 25, 30]   # Advertising\n",
        "y = [100, 150, 120, 180, 200]   # Sales\n",
        "n = len(x)\n",
        "\n",
        "# Step 1: Mean of X and Y\n",
        "sum_x, sum_y = 0, 0\n",
        "for i in range(n):\n",
        "    sum_x += x[i]\n",
        "    sum_y += y[i]\n",
        "mean_x = sum_x / n\n",
        "mean_y = sum_y / n\n",
        "\n",
        "# Step 2: Covariance\n",
        "cov_sum = 0\n",
        "for i in range(n):\n",
        "    cov_sum += (x[i] - mean_x) * (y[i] - mean_y)\n",
        "cov_xy = cov_sum / n   # population covariance\n",
        "\n",
        "# Step 3: Standard deviations of X and Y\n",
        "var_x, var_y = 0, 0\n",
        "for i in range(n):\n",
        "    var_x += (x[i] - mean_x) ** 2\n",
        "    var_y += (y[i] - mean_y) ** 2\n",
        "\n",
        "std_x = (var_x / n) ** 0.5\n",
        "std_y = (var_y / n) ** 0.5\n",
        "\n",
        "# Step 4: Correlation\n",
        "corr_xy = cov_xy / (std_x * std_y)\n",
        "\n",
        "# Print results\n",
        "print(\"Covariance (X,Y):\", cov_xy)\n",
        "print(\"Correlation (X,Y):\", corr_xy)\n"
      ],
      "metadata": {
        "colab": {
          "base_uri": "https://localhost:8080/"
        },
        "id": "XHlooi9cqBmy",
        "outputId": "6675ec40-c866-4022-a506-a2440ad7d5a9"
      },
      "execution_count": 8,
      "outputs": [
        {
          "output_type": "stream",
          "name": "stdout",
          "text": [
            "Covariance (X,Y): 260.0\n",
            "Correlation (X,Y): 0.9970544855015816\n"
          ]
        }
      ]
    },
    {
      "cell_type": "markdown",
      "source": [
        "5. Dataset: Study Hours: 2, 4, 6, 8, 10; Exam Scores: 55, 60, 65, 70, 75\n",
        "Questions: a) Calculate the correlation coefficient between study hours and exam\n",
        "scores.\n",
        "b) Interpret the result.\n",
        "c) Quartiles and IQR"
      ],
      "metadata": {
        "id": "uMqf0A6gq4DC"
      }
    },
    {
      "cell_type": "code",
      "source": [
        "import statistics as stats\n",
        "from scipy import stats as st\n",
        "\n",
        "# Dataset\n",
        "weights = [70, 68, 72, 71, 69, 73, 72, 74, 70, 71]\n",
        "mu0 = 70   # hypothesized mean\n",
        "n = len(weights)\n",
        "\n",
        "# a) One-sample t-test\n",
        "t_stat, p_value = st.ttest_1samp(weights, mu0)\n",
        "\n",
        "# b) Z-Scores\n",
        "mean_w = stats.mean(weights)\n",
        "std_w = stats.stdev(weights)   # sample std dev\n",
        "z_scores = [(w - mean_w) / std_w for w in weights]\n",
        "\n",
        "print(\"Sample Mean:\", mean_w)\n",
        "print(\"Sample Std Dev:\", std_w)\n",
        "print(\"t-Statistic:\", t_stat)\n",
        "print(\"p-Value:\", p_value)\n",
        "print(\"Z-Scores:\", z_scores)\n"
      ],
      "metadata": {
        "colab": {
          "base_uri": "https://localhost:8080/"
        },
        "id": "eVyl3SkfqShF",
        "outputId": "7c09daae-d554-49c0-b19a-4e04e893354b"
      },
      "execution_count": 16,
      "outputs": [
        {
          "output_type": "stream",
          "name": "stdout",
          "text": [
            "Sample Mean: 71\n",
            "Sample Std Dev: 1.8257418583505538\n",
            "t-Statistic: 1.732050807568877\n",
            "p-Value: 0.11730680301423822\n",
            "Z-Scores: [-0.5477225575051661, -1.6431676725154982, 0.5477225575051661, 0.0, -1.0954451150103321, 1.0954451150103321, 0.5477225575051661, 1.6431676725154982, -0.5477225575051661, 0.0]\n"
          ]
        }
      ]
    },
    {
      "cell_type": "markdown",
      "source": [
        "6. Dataset: Monthly savings (in $): 200, 300, 400, 500, 600, 700, 800, 900, 1000,\n",
        "1100 Questions: a) Calculate the first quartile (Q1) and third quartile (Q3).\n",
        "b) Calculate the interquartile range (IQR).\n",
        "c) Detecting Outliers"
      ],
      "metadata": {
        "id": "vXErH9xfrUa6"
      }
    },
    {
      "cell_type": "code",
      "source": [
        "# Dataset\n",
        "savings = [200, 300, 400, 500, 600, 700, 800, 900, 1000, 1100]\n",
        "n = len(savings)\n",
        "\n",
        "# --- a) Quartiles ---\n",
        "# Q2 (Median) not needed but for reference\n",
        "if n % 2 == 0:\n",
        "    q2 = (savings[n//2 - 1] + savings[n//2]) / 2\n",
        "else:\n",
        "    q2 = savings[n//2]\n",
        "\n",
        "# Lower half (first 5 values) & Upper half (last 5 values)\n",
        "lower_half = savings[:n//2]     # [200, 300, 400, 500, 600]\n",
        "upper_half = savings[n//2:]     # [700, 800, 900, 1000, 1100]\n",
        "\n",
        "# Q1 = median of lower_half\n",
        "m = len(lower_half)\n",
        "if m % 2 == 0:\n",
        "    q1 = (lower_half[m//2 - 1] + lower_half[m//2]) / 2\n",
        "else:\n",
        "    q1 = lower_half[m//2]\n",
        "\n",
        "# Q3 = median of upper_half\n",
        "m = len(upper_half)\n",
        "if m % 2 == 0:\n",
        "    q3 = (upper_half[m//2 - 1] + upper_half[m//2]) / 2\n",
        "else:\n",
        "    q3 = upper_half[m//2]\n",
        "\n",
        "# --- b) Interquartile Range ---\n",
        "iqr = q3 - q1\n",
        "\n",
        "# --- c) Detecting Outliers ---\n",
        "lower_bound = q1 - 1.5 * iqr\n",
        "upper_bound = q3 + 1.5 * iqr\n",
        "outliers = []\n",
        "for val in savings:\n",
        "    if val < lower_bound or val > upper_bound:\n",
        "        outliers.append(val)\n",
        "\n",
        "# Print Results\n",
        "print(\"Q1:\", q1)\n",
        "print(\"Q3:\", q3)\n",
        "print(\"IQR:\", iqr)\n",
        "print(\"Lower Bound:\", lower_bound, \"Upper Bound:\", upper_bound)\n",
        "print(\"Outliers:\", outliers if outliers else \"No Outliers\")\n"
      ],
      "metadata": {
        "colab": {
          "base_uri": "https://localhost:8080/"
        },
        "id": "4hvsYAExrInd",
        "outputId": "aded3481-9aac-4adf-a767-70f84373a128"
      },
      "execution_count": 10,
      "outputs": [
        {
          "output_type": "stream",
          "name": "stdout",
          "text": [
            "Q1: 400\n",
            "Q3: 900\n",
            "IQR: 500\n",
            "Lower Bound: -350.0 Upper Bound: 1650.0\n",
            "Outliers: No Outliers\n"
          ]
        }
      ]
    },
    {
      "cell_type": "markdown",
      "source": [
        "7. Dataset: Ages of employees: 22, 25, 28, 30, 35, 40, 45, 50, 55, 100\n",
        "Questions: a) Identify any outliers using the IQR method."
      ],
      "metadata": {
        "id": "CNoHGyOMtHLN"
      }
    },
    {
      "cell_type": "code",
      "source": [
        "# Dataset\n",
        "ages = [22, 25, 28, 30, 35, 40, 45, 50, 55, 100]\n",
        "n = len(ages)\n",
        "# Step 1: Sort data (already sorted but let's be safe)\n",
        "ages.sort()\n",
        "# Step 2: Median (Q2)\n",
        "if n % 2 == 0:\n",
        "    q2 = (ages[n//2 - 1] + ages[n//2]) / 2\n",
        "else:\n",
        "    q2 = ages[n//2]\n",
        "# Step 3: Lower and Upper halves\n",
        "lower_half = ages[:n//2]     # [22, 25, 28, 30, 35]\n",
        "upper_half = ages[n//2:]     # [40, 45, 50, 55, 100]\n",
        "# Step 4: Q1 = median of lower_half\n",
        "m = len(lower_half)\n",
        "if m % 2 == 0:\n",
        "    q1 = (lower_half[m//2 - 1] + lower_half[m//2]) / 2\n",
        "else:\n",
        "    q1 = lower_half[m//2]\n",
        "# Step 5: Q3 = median of upper_half\n",
        "m = len(upper_half)\n",
        "if m % 2 == 0:\n",
        "    q3 = (upper_half[m//2 - 1] + upper_half[m//2]) / 2\n",
        "else:\n",
        "    q3 = upper_half[m//2]\n",
        "# Step 6: IQR\n",
        "iqr = q3 - q1\n",
        "# Step 7: Outlier bounds\n",
        "lower_bound = q1 - 1.5 * iqr\n",
        "upper_bound = q3 + 1.5 * iqr\n",
        "# Step 8: Detect outliers\n",
        "outliers = []\n",
        "for val in ages:\n",
        "    if val < lower_bound or val > upper_bound:\n",
        "        outliers.append(val)\n",
        "# Print results\n",
        "print(\"Q1:\", q1)\n",
        "print(\"Q3:\", q3)\n",
        "print(\"IQR:\", iqr)\n",
        "print(\"Lower Bound:\", lower_bound, \"Upper Bound:\", upper_bound)\n",
        "print(\"Outliers:\", outliers if outliers else \"No Outliers\")\n"
      ],
      "metadata": {
        "colab": {
          "base_uri": "https://localhost:8080/"
        },
        "id": "S578OTMQrl-b",
        "outputId": "cc7c6afe-09cd-482e-8d9a-73efd0309e21"
      },
      "execution_count": 12,
      "outputs": [
        {
          "output_type": "stream",
          "name": "stdout",
          "text": [
            "Q1: 28\n",
            "Q3: 50\n",
            "IQR: 22\n",
            "Lower Bound: -5.0 Upper Bound: 83.0\n",
            "Outliers: [100]\n"
          ]
        }
      ]
    },
    {
      "cell_type": "markdown",
      "source": [
        "8. Dataset: Observed frequencies of customer preferences for three products:\n",
        "Product A: 50, 55, 60\n",
        "Product B: 30, 25, 35\n",
        "Product C: 20, 20, 25\n",
        "Questions: a) Perform a chi-square test to determine if there is a significant\n",
        "difference in customer preferences among the three products. b) Hypothesis\n",
        "Testing"
      ],
      "metadata": {
        "id": "nEQv_0tntt5X"
      }
    },
    {
      "cell_type": "code",
      "source": [
        "# Observed data (rows = products, cols = samples)\n",
        "observed = [\n",
        "    [50, 55, 60],   # Product A\n",
        "    [30, 25, 35],   # Product B\n",
        "    [20, 20, 25]    # Product C\n",
        "]\n",
        "\n",
        "# Step 1: Row totals, Column totals, Grand total\n",
        "row_totals = []\n",
        "col_totals = [0] * len(observed[0])\n",
        "grand_total = 0\n",
        "\n",
        "for row in observed:\n",
        "    row_total = sum(row)\n",
        "    row_totals.append(row_total)\n",
        "    grand_total += row_total\n",
        "    for j in range(len(row)):\n",
        "        col_totals[j] += row[j]\n",
        "\n",
        "# Step 2: Expected frequencies\n",
        "expected = []\n",
        "for i in range(len(observed)):\n",
        "    expected_row = []\n",
        "    for j in range(len(observed[0])):\n",
        "        e = (row_totals[i] * col_totals[j]) / grand_total\n",
        "        expected_row.append(e)\n",
        "    expected.append(expected_row)\n",
        "\n",
        "# Step 3: Chi-Square calculation\n",
        "chi_square = 0\n",
        "for i in range(len(observed)):\n",
        "    for j in range(len(observed[0])):\n",
        "        o = observed[i][j]\n",
        "        e = expected[i][j]\n",
        "        chi_square += (o - e) ** 2 / e\n",
        "\n",
        "# Step 4: Degrees of freedom\n",
        "df = (len(observed) - 1) * (len(observed[0]) - 1)\n",
        "\n",
        "print(\"Chi-Square Value:\", chi_square)\n",
        "print(\"Degrees of Freedom:\", df)\n"
      ],
      "metadata": {
        "colab": {
          "base_uri": "https://localhost:8080/"
        },
        "id": "WM9aroaptSSb",
        "outputId": "4bab6c1b-76b8-4590-a05f-9586be73a77d"
      },
      "execution_count": 14,
      "outputs": [
        {
          "output_type": "stream",
          "name": "stdout",
          "text": [
            "Chi-Square Value: 0.8774928774928774\n",
            "Degrees of Freedom: 4\n"
          ]
        }
      ]
    },
    {
      "cell_type": "markdown",
      "source": [
        "9. Dataset: Sample weights (in kg) of a new diet program: 70, 68, 72, 71, 69, 73,\n",
        "72, 74, 70, 71 Questions: a) Test the hypothesis that the mean weight after the\n",
        "diet program is equal to 70 kg at a 5% significance level. b) Z-Scores"
      ],
      "metadata": {
        "id": "IT0csauAugVz"
      }
    },
    {
      "cell_type": "code",
      "source": [
        "import statistics as stats\n",
        "from scipy import stats as st\n",
        "\n",
        "# Dataset\n",
        "weights = [70, 68, 72, 71, 69, 73, 72, 74, 70, 71]\n",
        "mu0 = 70   # hypothesized mean\n",
        "\n",
        "# a) One-sample t-test (H0: mean = 70)\n",
        "t_stat, p_value = st.ttest_1samp(weights, mu0)\n",
        "\n",
        "# b) Z-Scores\n",
        "mean_w = stats.mean(weights)\n",
        "std_w = stats.stdev(weights)   # sample std deviation\n",
        "z_scores = [(w - mean_w) / std_w for w in weights]\n",
        "\n",
        "print(\"Sample Mean:\", mean_w)\n",
        "print(\"Sample Std Dev:\", std_w)\n",
        "print(\"t-Statistic:\", t_stat)\n",
        "print(\"p-Value:\", p_value)\n",
        "print(\"Z-Scores:\", z_scores)\n"
      ],
      "metadata": {
        "colab": {
          "base_uri": "https://localhost:8080/"
        },
        "id": "bRX3M61Zt8lH",
        "outputId": "e2866a2a-7e21-4f97-aff6-a20c61ce138a"
      },
      "execution_count": 17,
      "outputs": [
        {
          "output_type": "stream",
          "name": "stdout",
          "text": [
            "Sample Mean: 71\n",
            "Sample Std Dev: 1.8257418583505538\n",
            "t-Statistic: 1.732050807568877\n",
            "p-Value: 0.11730680301423822\n",
            "Z-Scores: [-0.5477225575051661, -1.6431676725154982, 0.5477225575051661, 0.0, -1.0954451150103321, 1.0954451150103321, 0.5477225575051661, 1.6431676725154982, -0.5477225575051661, 0.0]\n"
          ]
        }
      ]
    },
    {
      "cell_type": "markdown",
      "source": [
        "10. Dataset: Annual salaries of employees (in $1000s): 40, 42, 45, 47, 50, 52, 55,\n",
        "57, 60, 62 Questions: a) Calculate the z-scores for each salary.\n",
        "b) Interpret the z-scores.\n",
        "c) Normal Distribution"
      ],
      "metadata": {
        "id": "L8xFUuJhwQNQ"
      }
    },
    {
      "cell_type": "code",
      "source": [
        "import statistics as stats\n",
        "import math\n",
        "\n",
        "# Dataset\n",
        "salaries = [40, 42, 45, 47, 50, 52, 55, 57, 60, 62]\n",
        "\n",
        "# Mean & Std Dev\n",
        "mean_sal = stats.mean(salaries)\n",
        "std_sal = stats.stdev(salaries)\n",
        "\n",
        "# a) Z-scores\n",
        "z_scores = [(x - mean_sal) / std_sal for x in salaries]\n",
        "\n",
        "print(\"Mean Salary:\", mean_sal)\n",
        "print(\"Standard Deviation:\", std_sal)\n",
        "print(\"Z-Scores:\", z_scores)\n",
        "\n",
        "# b) Interpretation\n",
        "for i, z in enumerate(z_scores):\n",
        "    print(f\"Salary {salaries[i]}k → Z-score = {z:.2f}\")\n",
        "\n",
        "# c) Normal Distribution probability example\n",
        "# Probability of salary < 50k (using CDF of normal distribution)\n",
        "import scipy.stats as st\n",
        "p_less_50 = st.norm.cdf(50, mean_sal, std_sal)\n",
        "\n",
        "print(\"P(Salary < 50k):\", p_less_50)\n"
      ],
      "metadata": {
        "colab": {
          "base_uri": "https://localhost:8080/"
        },
        "id": "4FLi5OGNuvYB",
        "outputId": "8f79bf26-355d-461d-bedb-138a7a7c7421"
      },
      "execution_count": 18,
      "outputs": [
        {
          "output_type": "stream",
          "name": "stdout",
          "text": [
            "Mean Salary: 51\n",
            "Standard Deviation: 7.52772652709081\n",
            "Z-Scores: [-1.4612645611411572, -1.1955800954791287, -0.7970533969860858, -0.5313689313240572, -0.1328422328310143, 0.1328422328310143, 0.5313689313240572, 0.7970533969860858, 1.1955800954791287, 1.4612645611411572]\n",
            "Salary 40k → Z-score = -1.46\n",
            "Salary 42k → Z-score = -1.20\n",
            "Salary 45k → Z-score = -0.80\n",
            "Salary 47k → Z-score = -0.53\n",
            "Salary 50k → Z-score = -0.13\n",
            "Salary 52k → Z-score = 0.13\n",
            "Salary 55k → Z-score = 0.53\n",
            "Salary 57k → Z-score = 0.80\n",
            "Salary 60k → Z-score = 1.20\n",
            "Salary 62k → Z-score = 1.46\n",
            "P(Salary < 50k): 0.44715907668008803\n"
          ]
        }
      ]
    },
    {
      "cell_type": "markdown",
      "source": [
        "12. Dataset: Sample data of a new drug's effect on blood pressure reduction (in\n",
        "mmHg): 10, 12, 14, 15, 13, 16, 18, 17, 19, 20\n",
        "Questions: a) Perform a t-test to determine if the new drug has a significant effect\n",
        "on blood pressure reduction. b) Report the p-value and interpret the results. c)\n",
        "Confidence Intervals"
      ],
      "metadata": {
        "id": "jW6l01npyMxU"
      }
    },
    {
      "cell_type": "code",
      "source": [
        " import statistics as stats\n",
        "import scipy.stats as st\n",
        "\n",
        "# Dataset\n",
        "bp = [10, 12, 14, 15, 13, 16, 18, 17, 19, 20]\n",
        "\n",
        "# Mean and Standard Deviation\n",
        "mean_bp = stats.mean(bp)\n",
        "std_bp = stats.stdev(bp)\n",
        "n = len(bp)\n",
        "\n",
        "print(\"Mean:\", mean_bp)\n",
        "print(\"Standard Deviation:\", std_bp)\n",
        "\n",
        "# a) One-sample t-test (H0: mean = 0, drug has no effect)\n",
        "t_stat, p_value = st.ttest_1samp(bp, 0)\n",
        "print(\"t-Statistic:\", t_stat)\n",
        "print(\"p-Value:\", p_value)\n",
        "\n",
        "# b) Interpretation:\n",
        "if p_value < 0.05:\n",
        "    print(\"Result: Significant effect (Reject H0)\")\n",
        "else:\n",
        "    print(\"Result: No significant effect (Fail to reject H0)\")\n",
        "\n",
        "# c) 95% Confidence Interval\n",
        "confidence = 0.95\n",
        "df = n - 1\n",
        "t_critical = st.t.ppf((1 + confidence) / 2, df)\n",
        "margin_of_error = t_critical * (std_bp / (n ** 0.5))\n",
        "ci_lower = mean_bp - margin_of_error\n",
        "ci_upper = mean_bp + margin_of_error\n",
        "print(f\"95% Confidence Interval: ({ci_lower}, {ci_upper})\")\n"
      ],
      "metadata": {
        "colab": {
          "base_uri": "https://localhost:8080/"
        },
        "id": "0DzGQLoExqNZ",
        "outputId": "2f5b080e-145b-4916-a827-c1482226b657"
      },
      "execution_count": 22,
      "outputs": [
        {
          "output_type": "stream",
          "name": "stdout",
          "text": [
            "Mean: 15.4\n",
            "Standard Deviation: 3.204163957519444\n",
            "t-Statistic: 15.198684153570664\n",
            "p-Value: 1.0062192292419559e-07\n",
            "Result: Significant effect (Reject H0)\n",
            "95% Confidence Interval: (13.107879185069535, 17.692120814930465)\n"
          ]
        }
      ]
    },
    {
      "cell_type": "code",
      "source": [],
      "metadata": {
        "id": "Zmn79bwS01i1"
      },
      "execution_count": null,
      "outputs": []
    }
  ]
}