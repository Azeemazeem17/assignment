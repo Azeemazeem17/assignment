{
  "nbformat": 4,
  "nbformat_minor": 0,
  "metadata": {
    "colab": {
      "provenance": [],
      "include_colab_link": true
    },
    "kernelspec": {
      "name": "python3",
      "display_name": "Python 3"
    },
    "language_info": {
      "name": "python"
    }
  },
  "cells": [
    {
      "cell_type": "markdown",
      "metadata": {
        "id": "view-in-github",
        "colab_type": "text"
      },
      "source": [
        "<a href=\"https://colab.research.google.com/github/Azeemazeem17/assignment/blob/main/python_casestudy_Azeem.ipynb\" target=\"_parent\"><img src=\"https://colab.research.google.com/assets/colab-badge.svg\" alt=\"Open In Colab\"/></a>"
      ]
    },
    {
      "cell_type": "markdown",
      "source": [
        "# Answer the following questions using only builtin Python datatypes and functions. Do not use Numpy or Scipy (i.e. No library imports allowed)"
      ],
      "metadata": {
        "id": "zVV_KMSIUG-A"
      }
    },
    {
      "cell_type": "markdown",
      "source": [
        "# Q1. Write a function that return the range (maximum and minimun) of a given list of numbers"
      ],
      "metadata": {
        "id": "uZnK7VgWV5SI"
      }
    },
    {
      "cell_type": "code",
      "source": [
        "def get_range(numbers):\n",
        "\n",
        "  if not numbers:\n",
        "    return (None, None)\n",
        "\n",
        "  minimum = numbers[0]\n",
        "  maximum = numbers[0]\n",
        "\n",
        "  for number in numbers:\n",
        "    if number < minimum:\n",
        "      minimum = number\n",
        "    if number > maximum:\n",
        "      maximum = number\n",
        "\n",
        "  return (minimum, maximum)\n",
        "\n",
        "my_numbers = [10, 5, 20, 15, 25]\n",
        "min_val, max_val = get_range(my_numbers)\n",
        "print(f\"The minimum value is: {min_val}\")\n",
        "print(f\"The maximum value is: {max_val}\")\n",
        "\n",
        "empty_list = []\n",
        "min_val_empty, max_val_empty = get_range(empty_list)\n",
        "print(f\"The range of the empty list is: {min_val_empty}, {max_val_empty}\")"
      ],
      "metadata": {
        "id": "vuAbJQcOWAM7",
        "colab": {
          "base_uri": "https://localhost:8080/"
        },
        "outputId": "6aa55757-b58c-4106-95f1-81daf9c147b6"
      },
      "execution_count": null,
      "outputs": [
        {
          "output_type": "stream",
          "name": "stdout",
          "text": [
            "The minimum value is: 5\n",
            "The maximum value is: 25\n",
            "The range of the empty list is: None, None\n"
          ]
        }
      ]
    },
    {
      "cell_type": "markdown",
      "source": [
        "## Q2. Write function that returns mean value of a list of numbers"
      ],
      "metadata": {
        "id": "Y5_v5a8_U1O-"
      }
    },
    {
      "cell_type": "code",
      "source": [
        "def get_mean(numbers):\n",
        "\n",
        "  if not numbers:\n",
        "    return None\n",
        "\n",
        "  total = 0\n",
        "  for number in numbers:\n",
        "    total += number\n",
        "\n",
        "  return total / len(numbers)\n",
        "\n",
        "my_numbers = [10, 5, 20, 15, 25]\n",
        "mean_value = get_mean(my_numbers)\n",
        "print(f\"The mean value is: {mean_value}\")\n",
        "\n",
        "empty_list = []\n",
        "mean_value_empty = get_mean(empty_list)\n",
        "print(f\"The mean of the empty list is: {mean_value_empty}\")"
      ],
      "metadata": {
        "id": "RajjEyacU7Sc",
        "colab": {
          "base_uri": "https://localhost:8080/"
        },
        "outputId": "bd498545-6faa-4c9e-e8d2-43feeb06bd9f"
      },
      "execution_count": null,
      "outputs": [
        {
          "output_type": "stream",
          "name": "stdout",
          "text": [
            "The mean value is: 15.0\n",
            "The mean of the empty list is: None\n"
          ]
        }
      ]
    },
    {
      "cell_type": "markdown",
      "source": [
        "## Q3. Write a function that returns the median value of a list of numbers"
      ],
      "metadata": {
        "id": "OpeRxoEoVTIP"
      }
    },
    {
      "cell_type": "code",
      "source": [
        "def find_median(numbers):\n",
        "  sorted_list =sorted(numbers)\n",
        "  length = len(sorted_list)\n",
        "  if (length % 2 != 0):\n",
        "    median_index = (length - 1) // 2\n",
        "    return sorted_list[median_index]\n",
        "  else:\n",
        "    median_index = length // 2\n",
        "    return (sorted_list[median_index - 1] + sorted_list[median_index]) / 2\n",
        "\n",
        "\n",
        "my_list = [19, 5, 8, 7, 4, 78, 9, 5, 4,6]\n",
        "median_value = find_median(my_list)\n",
        "print(\"Median value:\", median_value)"
      ],
      "metadata": {
        "id": "u1CUy0UOVaQi",
        "colab": {
          "base_uri": "https://localhost:8080/"
        },
        "outputId": "40a5e906-7a81-4936-9eed-9370428a7c6d"
      },
      "execution_count": null,
      "outputs": [
        {
          "output_type": "stream",
          "name": "stdout",
          "text": [
            "Median value: 6.5\n"
          ]
        }
      ]
    },
    {
      "cell_type": "markdown",
      "source": [
        "## Q4. Write a function to return the mod of a list of numbers, if no mod exists, it should return None. If more than one mod exist, return the mod values as list"
      ],
      "metadata": {
        "id": "2EMOG7AZSqVn"
      }
    },
    {
      "cell_type": "code",
      "execution_count": null,
      "metadata": {
        "id": "qnMm2dhhSk3-",
        "colab": {
          "base_uri": "https://localhost:8080/"
        },
        "outputId": "e943f434-4c0d-4f72-d764-c9915030a658"
      },
      "outputs": [
        {
          "output_type": "stream",
          "name": "stdout",
          "text": [
            "[4]\n",
            "None\n"
          ]
        }
      ],
      "source": [
        "def find_mode(data):\n",
        "# Find Count occurrences\n",
        "  freq = {}\n",
        "  for num in data:\n",
        "      if num in freq:\n",
        "          freq[num] += 1\n",
        "      else:\n",
        "          freq[num] = 1\n",
        "\n",
        "# Find maximum frequency\n",
        "  max_count = max(freq.values())\n",
        "\n",
        "#if no mod exist\n",
        "  if max_count == 1:\n",
        "    return None\n",
        "#Find all numbers with frequency == max_count\n",
        "  modes = []\n",
        "  for num, count in freq.items():\n",
        "      if count == max_count:\n",
        "          modes.append(num)\n",
        "\n",
        "  return modes\n",
        "\n",
        "my_data1 = [1, 2, 2,3, 3, 3, 4, 4, 4, 4]\n",
        "my_data2 = [1, 2, 3, 4]\n",
        "\n",
        "result = find_mode(my_data1)\n",
        "result2 = find_mode(my_data2)\n",
        "print(result)\n",
        "print(result2)"
      ]
    },
    {
      "cell_type": "markdown",
      "source": [
        "## Q5. Write function to compute a given percentile value (e.g. 90th percentile) of a list of numbers"
      ],
      "metadata": {
        "id": "LcqWwqtgTCiL"
      }
    },
    {
      "cell_type": "code",
      "source": [
        "def find_perct(numbers,percent):\n",
        " numbers.sort()\n",
        " n=len(numbers)\n",
        " index = percent * n // 100\n",
        " Q=numbers[ index-1]\n",
        " return Q\n",
        "my_list =[1,2,3,4,5,6,7,8]\n",
        "my_percentile = find_perct(my_list,90)\n",
        "print(my_percentile)"
      ],
      "metadata": {
        "id": "Sn307h0TTb2b",
        "colab": {
          "base_uri": "https://localhost:8080/"
        },
        "outputId": "3f6c360f-ed08-4570-80e0-f08c1eb84145"
      },
      "execution_count": null,
      "outputs": [
        {
          "output_type": "stream",
          "name": "stdout",
          "text": [
            "7\n"
          ]
        }
      ]
    },
    {
      "cell_type": "markdown",
      "source": [
        "# Q6. Write a function that returns the lower bound of a list of numbers"
      ],
      "metadata": {
        "id": "N-TYHkDcWOfS"
      }
    },
    {
      "cell_type": "code",
      "source": [
        "def find_lower_bound(data):\n",
        "  data.sort()\n",
        "  n=len(data)\n",
        "  #Find the index positions for Q1, Q2 (median), and Q3\n",
        "  Q1__index = (n // 4)\n",
        "  Q2__index = (n // 2)\n",
        "  Q3__index = (3 * n // 4)\n",
        "\n",
        "  Q1 = data[Q1__index - 1]\n",
        "  Q2 = data[Q2__index - 1]\n",
        "  Q3 = data[Q3__index - 1]\n",
        "\n",
        "  IQR = Q3 - Q1\n",
        "  lower_limit = Q1 - 1.5 * IQR\n",
        "  return lower_limit\n",
        "\n",
        "my_list = [85,60,72,55,105,315,380,290,190,130,95,70]\n",
        "my_list1 = [1,2,3,4,5,6,7,8,9,10]\n",
        "result = find_lower_bound(my_list)\n",
        "result1 = find_lower_bound(my_list1)\n",
        "print(f\"Lower boundary of first list: {result}\")\n",
        "print(f\"Lower Boundary of second list: {result1}\")\n"
      ],
      "metadata": {
        "id": "Y-RKPdKuW5nx",
        "colab": {
          "base_uri": "https://localhost:8080/"
        },
        "outputId": "0997e78d-042f-4c64-9d4d-874eca716658"
      },
      "execution_count": null,
      "outputs": [
        {
          "output_type": "stream",
          "name": "stdout",
          "text": [
            "Lower boundary of first list: -110.0\n",
            "Lower Boundary of second list: -5.5\n"
          ]
        }
      ]
    },
    {
      "cell_type": "markdown",
      "source": [
        "## Q7. Write function to return any outliers from a given list of numbers, if no outliers present it should return None"
      ],
      "metadata": {
        "id": "5aHfaI_jThpX"
      }
    },
    {
      "cell_type": "code",
      "source": [
        "def find_outliers(data):\n",
        "  data.sort()\n",
        "  n=len(data)\n",
        "\n",
        "  #Find the index positions for Q1, Q2 (median), and Q3\n",
        "  Q1__index = (n // 4)\n",
        "  Q2__index = (n // 2)\n",
        "  Q3__index = (3 * n // 4)\n",
        "\n",
        "  Q1 = data[Q1__index - 1]\n",
        "  Q2 = data[Q2__index - 1]\n",
        "  Q3 = data[Q3__index - 1]\n",
        "\n",
        "  IQR = Q3 - Q1\n",
        "  lower_limit = Q1 - 1.5 * IQR\n",
        "  upper_limit = Q3 + 1.5 * IQR\n",
        "\n",
        "  outliers = []  # Initialize outlier as an empty list\n",
        "  for x in data:\n",
        "    if x < lower_limit or x > upper_limit:\n",
        "      outliers.append(x)\n",
        "\n",
        "  if outliers:\n",
        "    return outliers\n",
        "  else:\n",
        "    return None\n",
        "\n",
        "my_list = [85,60,72,55,105,315,380,290,190,130,95,70]\n",
        "my_list1 = [1,2,3,4,5,6,7,8,9,10]\n",
        "result = find_outliers(my_list)\n",
        "result1 = find_outliers(my_list1)\n",
        "print(f\"outliers of first list: {result}\")\n",
        "print(f\"outliers of second list: {result1}\")"
      ],
      "metadata": {
        "id": "gG6-qzT7T0Si",
        "colab": {
          "base_uri": "https://localhost:8080/"
        },
        "outputId": "2ec3f4b0-f874-48d6-e551-64587d2b0702"
      },
      "execution_count": null,
      "outputs": [
        {
          "output_type": "stream",
          "name": "stdout",
          "text": [
            "outliers of first list: [380]\n",
            "outliers of second list: None\n"
          ]
        }
      ]
    },
    {
      "cell_type": "markdown",
      "source": [
        "##Q8. Write a function to return standard deviation of a list of numbers"
      ],
      "metadata": {
        "id": "jI9t-tcDT5EK"
      }
    },
    {
      "cell_type": "code",
      "source": [
        "def std_dev(my_list):\n",
        "    # Calculate mean\n",
        "    mean = sum(my_list) / len(my_list)\n",
        "\n",
        "    #Calculate sum of squared differences\n",
        "    summation = 0\n",
        "    for i in my_list:\n",
        "      summation = summation + (i - mean)**2\n",
        "\n",
        "      #Calculate variance & standard deviation\n",
        "      varience = summation / len(my_list)\n",
        "      std = varience**0.5\n",
        "    return std\n",
        "\n",
        "\n",
        "my_list = [1,2,3,4,5,6]\n",
        "std = std_dev(my_list)\n",
        "print(\"Standard Deviation =\",std)\n"
      ],
      "metadata": {
        "id": "MMU_cMlLUFxJ",
        "colab": {
          "base_uri": "https://localhost:8080/"
        },
        "outputId": "e0d5457f-025c-4236-a7a6-d394a21b6317"
      },
      "execution_count": null,
      "outputs": [
        {
          "output_type": "stream",
          "name": "stdout",
          "text": [
            "Standard Deviation = 1.707825127659933\n"
          ]
        }
      ]
    },
    {
      "cell_type": "markdown",
      "source": [
        "## Q9. Write function to compute and return Z-score values of a list of numbers"
      ],
      "metadata": {
        "id": "LufmQDJPURkM"
      }
    },
    {
      "cell_type": "code",
      "source": [
        "#Z-score = x-mean/standard_deviation\n",
        "\n",
        "def std_dev(my_list):\n",
        "  # Calculate mean\n",
        "  mean = sum(my_list) / len(my_list)\n",
        "\n",
        "  #Calculate sum of squared differences\n",
        "  summation = 0\n",
        "  for i in my_list:\n",
        "    summation = summation + (i - mean)**2\n",
        "\n",
        "  #Calculate variance & standard deviation\n",
        "  varience = summation / len(my_list)\n",
        "  std = varience**0.5\n",
        "\n",
        "  z_score = [(i - mean) / std for i in my_list]\n",
        "  return z_score\n",
        "\n",
        "my_list = [1,2,3,4,5]\n",
        "print(std_dev(my_list))"
      ],
      "metadata": {
        "id": "ml2qpSpFUYxV",
        "colab": {
          "base_uri": "https://localhost:8080/"
        },
        "outputId": "550e6871-daed-478e-f8e7-4978caf878b1"
      },
      "execution_count": null,
      "outputs": [
        {
          "output_type": "stream",
          "name": "stdout",
          "text": [
            "[-1.414213562373095, -0.7071067811865475, 0.0, 0.7071067811865475, 1.414213562373095]\n"
          ]
        }
      ]
    },
    {
      "cell_type": "markdown",
      "source": [
        "## Q10. Write a function to compute and return the Pearson correlation coefficient value of two list of numbers"
      ],
      "metadata": {
        "id": "YQSNHIfxUb6s"
      }
    },
    {
      "cell_type": "code",
      "source": [
        "# cov(x,y)/std x *std y\n",
        "#cov(x,y) = E(xi - x_)(yi - y_)/n\n",
        "\n",
        "def pearson_correlation(x, y):\n",
        "  if len(x) != len(y):\n",
        "    raise ValueError(\"Both lists must have the same length\")\n",
        "\n",
        "  n = len(x)\n",
        "  # Calculate means\n",
        "  mean_x = sum(x) / n\n",
        "  mean_y = sum(y) / n\n",
        "  # Numerator: sum of (x - mean_x) * (y - mean_y)\n",
        "  numerator = sum((x[i] - mean_x) * (y[i] - mean_y) for i in range(n))\n",
        "  # Denominator: product of standard deviations\n",
        "  sum_sq_x = sum((x[i] - mean_x) ** 2 for i in range(n))\n",
        "  sum_sq_y = sum((y[i] - mean_y) ** 2 for i in range(n))\n",
        "  denominator = (sum_sq_x ** 0.5) * (sum_sq_y ** 0.5)\n",
        "  return numerator / denominator\n",
        "\n",
        "list1 = [1, 2, 3, 4, 5]\n",
        "list2 = [2, 4, 6, 8, 10]\n",
        "Pearson_corr = pearson_correlation(list1, list2)\n",
        "print(\"Pearson Correlation Coefficient =\", Pearson_corr)"
      ],
      "metadata": {
        "id": "1YGqr3T6Uk6H",
        "colab": {
          "base_uri": "https://localhost:8080/"
        },
        "outputId": "626674a8-e8e9-4da8-c521-2adb9aaa1d75"
      },
      "execution_count": null,
      "outputs": [
        {
          "output_type": "stream",
          "name": "stdout",
          "text": [
            "Pearson Correlation Coefficient = 0.9999999999999998\n"
          ]
        }
      ]
    },
    {
      "cell_type": "code",
      "source": [],
      "metadata": {
        "id": "2uOZ5eNjRR6Q"
      },
      "execution_count": null,
      "outputs": []
    }
  ]
}