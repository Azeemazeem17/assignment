{
  "nbformat": 4,
  "nbformat_minor": 0,
  "metadata": {
    "colab": {
      "provenance": [],
      "authorship_tag": "ABX9TyMJihWyuB1Vtd/1VbaakFuj",
      "include_colab_link": true
    },
    "kernelspec": {
      "name": "python3",
      "display_name": "Python 3"
    },
    "language_info": {
      "name": "python"
    }
  },
  "cells": [
    {
      "cell_type": "markdown",
      "metadata": {
        "id": "view-in-github",
        "colab_type": "text"
      },
      "source": [
        "<a href=\"https://colab.research.google.com/github/Azeemazeem17/assignment/blob/main/Azeem_Python_addnl_assessment.ipynb\" target=\"_parent\"><img src=\"https://colab.research.google.com/assets/colab-badge.svg\" alt=\"Open In Colab\"/></a>"
      ]
    },
    {
      "cell_type": "markdown",
      "source": [
        "1. Grocery Store Billing\n",
        "A grocery store wants to automate billing.\n",
        "\n",
        "● Take the names and prices of items from the user until they type \"done\".\n",
        "\n",
        "● Print the total bill.\n",
        "\n",
        "● If total bill > ₹500, apply 10% discount."
      ],
      "metadata": {
        "id": "MupNcco7g5CN"
      }
    },
    {
      "cell_type": "code",
      "execution_count": null,
      "metadata": {
        "colab": {
          "base_uri": "https://localhost:8080/"
        },
        "id": "9qM1Xc8PXjAM",
        "outputId": "b190c165-a603-4bd3-bbe5-84904be5a7c1"
      },
      "outputs": [
        {
          "output_type": "stream",
          "name": "stdout",
          "text": [
            "Enter item name (or type 'done' to finish): shoe\n",
            "Enter price of shoe: 400\n",
            "Enter item name (or type 'done' to finish): phone \n",
            "Enter price of phone : 700\n",
            "Enter item name (or type 'done' to finish): done\n",
            "Total Bill = 1100.0\n",
            "10% Discount Applied: 110.0\n",
            "Final Bill Amount = 990.0\n"
          ]
        }
      ],
      "source": [
        "total = 0\n",
        "\n",
        "while True:\n",
        "    item = input(\"Enter item name (or type 'done' to finish): \")\n",
        "    if item.lower() == \"done\":\n",
        "        break\n",
        "    price = float(input(f\"Enter price of {item}: \"))\n",
        "    total += price\n",
        "\n",
        "print(\"Total Bill =\", total)\n",
        "\n",
        "# Discount condition\n",
        "if total > 500:\n",
        "    discount = total * 0.10\n",
        "    total -= discount\n",
        "    print(\"10% Discount Applied:\", discount)\n",
        "\n",
        "print(\"Final Bill Amount =\", total)\n"
      ]
    },
    {
      "cell_type": "markdown",
      "source": [
        "2. Exam Result Calculator\n",
        "A school stores student marks in a list.\n",
        "\n",
        "● Input marks for 5 subjects.\n",
        "\n",
        "● Calculate percentage.\n",
        "\n",
        "● Print grade:\n",
        "\n",
        "○ ≥ 90: A\n",
        "○ ≥ 75: B\n",
        "○ ≥ 50: C\n",
        "○ else: Fai"
      ],
      "metadata": {
        "id": "NkOUtJBahRrl"
      }
    },
    {
      "cell_type": "code",
      "source": [
        "marks = []\n",
        "\n",
        "\n",
        "for i in range(1, 6):\n",
        "    mark = float(input(f\"Enter marks for subject {i}: \"))\n",
        "    marks.append(mark)\n",
        "\n",
        "# Total & Percentage\n",
        "total = sum(marks)\n",
        "percentage = (total / 500) * 100\n",
        "print(\"Percentage:\", percentage, \"%\")\n",
        "\n",
        "# Grade\n",
        "if percentage >= 90:\n",
        "    grade = \"A\"\n",
        "elif percentage >= 75:\n",
        "    grade = \"B\"\n",
        "elif percentage >= 50:\n",
        "    grade = \"C\"\n",
        "else:\n",
        "    grade = \"Fail\"\n",
        "\n",
        "print(\"Grade:\", grade)\n"
      ],
      "metadata": {
        "colab": {
          "base_uri": "https://localhost:8080/"
        },
        "id": "TPng6k6ZYmWO",
        "outputId": "38cc7a01-2ed8-4690-a482-09f7ba513c4f"
      },
      "execution_count": null,
      "outputs": [
        {
          "output_type": "stream",
          "name": "stdout",
          "text": [
            "Enter marks for subject 1: 50\n",
            "Enter marks for subject 2: 34\n",
            "Enter marks for subject 3: 70\n",
            "Enter marks for subject 4: 60\n",
            "Enter marks for subject 5: 60\n",
            "Percentage: 54.800000000000004 %\n",
            "Grade: C\n"
          ]
        }
      ]
    },
    {
      "cell_type": "markdown",
      "source": [
        "3. ATM Simulation\n",
        "Simulate an ATM with:\n",
        "\n",
        "● Starting balance = ₹1000\n",
        "\n",
        "● Options: Deposit, Withdraw, Check balance, Exit\n",
        "\n",
        "● Prevent withdrawal if funds are insufficient."
      ],
      "metadata": {
        "id": "9fKaf_1XhcPP"
      }
    },
    {
      "cell_type": "code",
      "source": [
        "balance = 1000\n",
        "\n",
        "while True:\n",
        "    print(\"\\n--- ATM Menu ---\")\n",
        "    print(\"1. Deposit\")\n",
        "    print(\"2. Withdraw\")\n",
        "    print(\"3. Check Balance\")\n",
        "    print(\"4. Exit\")\n",
        "\n",
        "    choice = input(\"Enter your choice (1-4): \")\n",
        "\n",
        "    if choice == \"1\":\n",
        "        amount = float(input(\"Enter amount to deposit: \"))\n",
        "        balance += amount\n",
        "        print(\"Amount deposited. New balance =\", balance)\n",
        "\n",
        "    elif choice == \"2\":\n",
        "        amount = float(input(\"Enter amount to withdraw: \"))\n",
        "        if amount > balance:\n",
        "            print(\"Insufficient funds!\")\n",
        "        else:\n",
        "            balance -= amount\n",
        "            print(\"Amount withdrawn. New balance =\", balance)\n",
        "\n",
        "    elif choice == \"3\":\n",
        "        print(\"Current balance =\", balance)\n",
        "\n",
        "    elif choice == \"4\":\n",
        "        print(\"Thank you! Exiting ATM.\")\n",
        "        break\n",
        "\n",
        "    else:\n",
        "        print(\"Invalid choice! Please enter 1-4.\")\n"
      ],
      "metadata": {
        "colab": {
          "base_uri": "https://localhost:8080/"
        },
        "id": "u1ZpBTaRZTou",
        "outputId": "98fe0ee1-ea46-46db-db70-ce7f81a7363a"
      },
      "execution_count": null,
      "outputs": [
        {
          "output_type": "stream",
          "name": "stdout",
          "text": [
            "\n",
            "--- ATM Menu ---\n",
            "1. Deposit\n",
            "2. Withdraw\n",
            "3. Check Balance\n",
            "4. Exit\n",
            "Enter your choice (1-4): 1\n",
            "Enter amount to deposit: 10000\n",
            "Amount deposited. New balance = 11000.0\n",
            "\n",
            "--- ATM Menu ---\n",
            "1. Deposit\n",
            "2. Withdraw\n",
            "3. Check Balance\n",
            "4. Exit\n",
            "Enter your choice (1-4): 2\n",
            "Enter amount to withdraw: 120000\n",
            "Insufficient funds!\n",
            "\n",
            "--- ATM Menu ---\n",
            "1. Deposit\n",
            "2. Withdraw\n",
            "3. Check Balance\n",
            "4. Exit\n",
            "Enter your choice (1-4): 3\n",
            "Current balance = 11000.0\n",
            "\n",
            "--- ATM Menu ---\n",
            "1. Deposit\n",
            "2. Withdraw\n",
            "3. Check Balance\n",
            "4. Exit\n",
            "Enter your choice (1-4): 4\n",
            "Thank you! Exiting ATM.\n"
          ]
        }
      ]
    },
    {
      "cell_type": "markdown",
      "source": [
        "4. Cricket Score Tracker\n",
        "Store player scores in a dictionary.\n",
        "\n",
        "● Add 5 players with scores.\n",
        "\n",
        "● Find and print top scorer’s name and score.\n",
        "\n",
        "● Update a player’s score after a match."
      ],
      "metadata": {
        "id": "HiR6Aqz_hkam"
      }
    },
    {
      "cell_type": "code",
      "source": [
        "scores = {\n",
        "    \"Virat\": 75,\n",
        "    \"Rohit\": 88,\n",
        "    \"Dhoni\": 65,\n",
        "    \"Kohli\": 90,\n",
        "    \"Jadeja\": 50\n",
        "}\n",
        "\n",
        "# Find top scorer\n",
        "top_scorer = max(scores, key=scores.get)\n",
        "print(\"Top Scorer:\", top_scorer, \"with\", scores[top_scorer], \"runs\")\n",
        "\n",
        "# Update a player's score\n",
        "player = input(\"Enter player name to update score: \")\n",
        "if player in scores:\n",
        "    new_score = int(input(f\"Enter new score for {player}: \"))\n",
        "    scores[player] = new_score\n",
        "    print(\"Updated Scores:\", scores)\n",
        "else:\n",
        "    print(\"Player not found!\")\n"
      ],
      "metadata": {
        "colab": {
          "base_uri": "https://localhost:8080/"
        },
        "id": "xlI7L64dbmSm",
        "outputId": "536cd33c-b37f-46bd-b344-6e313cde7dc5"
      },
      "execution_count": null,
      "outputs": [
        {
          "output_type": "stream",
          "name": "stdout",
          "text": [
            "Top Scorer: Kohli with 90 runs\n",
            "Enter player name to update score: Dhoni\n",
            "Enter new score for Dhoni: 0\n",
            "Updated Scores: {'Virat': 75, 'Rohit': 88, 'Dhoni': 0, 'Kohli': 90, 'Jadeja': 50}\n"
          ]
        }
      ]
    },
    {
      "cell_type": "markdown",
      "source": [
        "5. Restaurant Order System\n",
        "\n",
        "● Menu stored in dictionary (item: price).\n",
        "\n",
        "● Take multiple orders from user.\n",
        "\n",
        "● Print final bill amount.\n",
        "\n",
        "● If order contains \"Pizza\", give ₹50 off."
      ],
      "metadata": {
        "id": "Rotv5OMvhqGW"
      }
    },
    {
      "cell_type": "code",
      "source": [
        "menu = {\n",
        "    \"Burger\": 120,\n",
        "    \"Pizza\": 250,\n",
        "    \"Pasta\": 180,\n",
        "    \"Coke\": 50,\n",
        "    \"Fries\": 80\n",
        "}\n",
        "\n",
        "total = 0\n",
        "\n",
        "while True:\n",
        "    item = input(\"Enter item to order (or type 'done' to finish): \")\n",
        "    if item.lower() == \"done\":\n",
        "        break\n",
        "    elif item in menu:\n",
        "        total += menu[item]\n",
        "    else:\n",
        "        print(\"Item not in menu!\")\n",
        "\n",
        "# Check for Pizza discount\n",
        "if \"Pizza\" in menu and total >= menu[\"Pizza\"]:\n",
        "    total -= 50\n",
        "    print(\"₹50 discount applied for Pizza!\")\n",
        "\n",
        "print(\"Final Bill Amount =\", total)\n"
      ],
      "metadata": {
        "colab": {
          "base_uri": "https://localhost:8080/"
        },
        "id": "q8bOrmtycRjD",
        "outputId": "7d5eabc4-2755-485c-bfd9-df71e6cfcd32"
      },
      "execution_count": null,
      "outputs": [
        {
          "output_type": "stream",
          "name": "stdout",
          "text": [
            "Enter item to order (or type 'done' to finish): pizza\n",
            "Item not in menu!\n",
            "Enter item to order (or type 'done' to finish): Burger\n",
            "Enter item to order (or type 'done' to finish): Pasta\n",
            "Enter item to order (or type 'done' to finish): Coke\n",
            "Enter item to order (or type 'done' to finish): done\n",
            "₹50 discount applied for Pizza!\n",
            "Final Bill Amount = 300\n"
          ]
        }
      ]
    },
    {
      "cell_type": "markdown",
      "source": [
        "6. Temperature Conversion Tool\n",
        "Write a program that:\n",
        "\n",
        "● Asks user for temperature in Celsius.\n",
        "\n",
        "● Converts to Fahrenheit using formula:"
      ],
      "metadata": {
        "id": "GLusQFdXhwCc"
      }
    },
    {
      "cell_type": "code",
      "source": [
        "# Input temperature in Celsius\n",
        "celsius = float(input(\"Enter temperature in Celsius: \"))\n",
        "\n",
        "fahrenheit = (celsius * 9/5) + 32\n",
        "\n",
        "print(f\"{celsius}°C = {fahrenheit}°F\")\n"
      ],
      "metadata": {
        "colab": {
          "base_uri": "https://localhost:8080/"
        },
        "id": "mUrSZ_14dEet",
        "outputId": "d39e26bf-f43a-4fb9-956d-e73b2fa9dd54"
      },
      "execution_count": null,
      "outputs": [
        {
          "output_type": "stream",
          "name": "stdout",
          "text": [
            "Enter temperature in Celsius: 101\n",
            "101.0°C = 213.8°F\n"
          ]
        }
      ]
    },
    {
      "cell_type": "markdown",
      "source": [
        "7. Online Shopping Cart\n",
        "\n",
        "● Create a cart as a list.\n",
        "\n",
        "● Allow user to add items, remove items, and view cart.\n",
        "\n",
        "● Exit when user types \"checkout\".\n"
      ],
      "metadata": {
        "id": "3hqj3oGjh1vP"
      }
    },
    {
      "cell_type": "code",
      "source": [
        "cart = []\n",
        "\n",
        "while True:\n",
        "    print(\"\\nOptions: add, remove, view, checkout\")\n",
        "    action = input(\"Enter your action: \").lower()\n",
        "\n",
        "    if action == \"add\":\n",
        "        item = input(\"Enter item to add: \")\n",
        "        cart.append(item)\n",
        "        print(item, \"added to cart.\")\n",
        "\n",
        "    elif action == \"remove\":\n",
        "        item = input(\"Enter item to remove: \")\n",
        "        if item in cart:\n",
        "            cart.remove(item)\n",
        "            print(item, \"removed from cart.\")\n",
        "        else:\n",
        "            print(item, \"not found in cart!\")\n",
        "\n",
        "    elif action == \"view\":\n",
        "        print(\"Current cart:\", cart)\n",
        "\n",
        "    elif action == \"checkout\":\n",
        "        print(\"Final cart:\", cart)\n",
        "        print(\"Checkout complete. Thank you!\")\n",
        "        break\n",
        "\n",
        "    else:\n",
        "        print(\"Invalid action!\")\n"
      ],
      "metadata": {
        "colab": {
          "base_uri": "https://localhost:8080/"
        },
        "id": "Nvkx21IJdnOs",
        "outputId": "c77931b5-c564-403d-ed5b-46d5d075b0ae"
      },
      "execution_count": null,
      "outputs": [
        {
          "output_type": "stream",
          "name": "stdout",
          "text": [
            "\n",
            "Options: add, remove, view, checkout\n",
            "Enter your action: view\n",
            "Current cart: []\n",
            "\n",
            "Options: add, remove, view, checkout\n",
            "Enter your action: hello\n",
            "Invalid action!\n",
            "\n",
            "Options: add, remove, view, checkout\n",
            "Enter your action: add\n",
            "Enter item to add: remove\n",
            "remove added to cart.\n",
            "\n",
            "Options: add, remove, view, checkout\n",
            "Enter your action: checkout\n",
            "Final cart: ['remove']\n",
            "Checkout complete. Thank you!\n"
          ]
        }
      ]
    },
    {
      "cell_type": "markdown",
      "source": [
        "8. Student Attendance Tracker\n",
        "\n",
        "● Store student names in a list.\n",
        "\n",
        "● Mark attendance as P or A.\n",
        "\n",
        "● Print the total number of present and absent students."
      ],
      "metadata": {
        "id": "5xAjd2ZKh9KD"
      }
    },
    {
      "cell_type": "code",
      "source": [
        "students = [\"Azeem\", \"Arshiya\", \"Noori\", \"Sneha\", \"Ravi\"]\n",
        "attendance = {}\n",
        "\n",
        "# Mark attendance\n",
        "for student in students:\n",
        "    status = input(f\"Mark attendance for {student} (P/A): \").upper()\n",
        "    if status in [\"P\", \"A\"]:\n",
        "        attendance[student] = status\n",
        "    else:\n",
        "        print(\"Invalid input! Marking Absent by default.\")\n",
        "        attendance[student] = \"A\"\n",
        "\n",
        "# Count present and absent\n",
        "present_count = sum(1 for status in attendance.values() if status == \"P\")\n",
        "absent_count = sum(1 for status in attendance.values() if status == \"A\")\n",
        "\n",
        "print(\"\\nAttendance Record:\", attendance)\n",
        "print(\"Total Present:\", present_count)\n",
        "print(\"Total Absent:\", absent_count)\n"
      ],
      "metadata": {
        "colab": {
          "base_uri": "https://localhost:8080/"
        },
        "id": "JnmMvBK3eCYG",
        "outputId": "e8a31ca4-4429-43b4-bb7e-55d5bba8bed4"
      },
      "execution_count": null,
      "outputs": [
        {
          "output_type": "stream",
          "name": "stdout",
          "text": [
            "Mark attendance for Azeem (P/A): p\n",
            "Mark attendance for Arshiya (P/A): a\n",
            "Mark attendance for Noori (P/A): a\n",
            "Mark attendance for Sneha (P/A): a\n",
            "Mark attendance for Ravi (P/A): a\n",
            "\n",
            "Attendance Record: {'Azeem': 'P', 'Arshiya': 'A', 'Noori': 'A', 'Sneha': 'A', 'Ravi': 'A'}\n",
            "Total Present: 1\n",
            "Total Absent: 4\n"
          ]
        }
      ]
    },
    {
      "cell_type": "markdown",
      "source": [
        "9. Cinema Ticket Booking System\n",
        "Create a program where users can book movie tickets. A theater has 50 seats in total. Each\n",
        "ticket costs ₹120.\n",
        "\n",
        "● Ask the user how many tickets they want.\n",
        "\n",
        "● If enough seats are available → confirm booking and reduce available seats.\n",
        "\n",
        "● If not enough seats → show an error message.\n",
        "\n",
        "● Show remaining seats after each booking."
      ],
      "metadata": {
        "id": "thICLRYaiDeN"
      }
    },
    {
      "cell_type": "code",
      "source": [
        "# Cinema Ticket Booking System\n",
        "\n",
        "total_seats = 10\n",
        "ticket_price = 120\n",
        "\n",
        "while total_seats > 0:\n",
        "    print(f\"\\nAvailable seats: {total_seats}\")\n",
        "    tickets = int(input(\"How many tickets do you want to book? \"))\n",
        "\n",
        "    if tickets <= total_seats:\n",
        "        cost = tickets * ticket_price\n",
        "        total_seats -= tickets\n",
        "        print(f\" Booking confirmed for {tickets} tickets.\")\n",
        "        print(f\" Total cost = ₹{cost}\")\n",
        "        print(f\" Remaining seats = {total_seats}\")\n",
        "    else:\n",
        "        print(\" Sorry, not enough seats available.\")\n",
        "\n",
        "print(\"\\nHousefull! No seats left.\")\n"
      ],
      "metadata": {
        "id": "JfCL2AWVe63C",
        "colab": {
          "base_uri": "https://localhost:8080/"
        },
        "outputId": "b3fcc18c-f9cd-4af8-e900-dfb959cd6c7e"
      },
      "execution_count": null,
      "outputs": [
        {
          "output_type": "stream",
          "name": "stdout",
          "text": [
            "\n",
            "Available seats: 10\n",
            "How many tickets do you want to book? 3\n",
            " Booking confirmed for 3 tickets.\n",
            " Total cost = ₹360\n",
            " Remaining seats = 7\n",
            "\n",
            "Available seats: 7\n",
            "How many tickets do you want to book? 7\n",
            " Booking confirmed for 7 tickets.\n",
            " Total cost = ₹840\n",
            " Remaining seats = 0\n",
            "\n",
            "Housefull! No seats left.\n"
          ]
        }
      ]
    },
    {
      "cell_type": "markdown",
      "source": [
        "10. Bank Loan Eligibility Checker\n",
        "A bank provides loans only if:\n",
        "\n",
        "● Salary ≥ 25,000\n",
        "\n",
        "● Credit Score ≥ 650\n",
        "\n",
        "● Age between 21 and 60\n",
        "Ask the user for salary, credit score, and age, then decide if they are eligible."
      ],
      "metadata": {
        "id": "MO7c3L-NiL1C"
      }
    },
    {
      "cell_type": "code",
      "source": [
        "# Bank Loan Eligibility Checker\n",
        "\n",
        "salary = int(input(\"Enter your monthly salary: \"))\n",
        "credit_score = int(input(\"Enter your credit score: \"))\n",
        "age = int(input(\"Enter your age: \"))\n",
        "\n",
        "if salary >= 25000 and credit_score >= 650 and 21 <= age <= 60:\n",
        "    print(\" You are eligible for the loan.\")\n",
        "else:\n",
        "    print(\" Sorry, you are not eligible for the loan.\")\n"
      ],
      "metadata": {
        "colab": {
          "base_uri": "https://localhost:8080/"
        },
        "id": "uLE5ZNmpOJxv",
        "outputId": "f8d80269-3fd0-4aa8-dacc-1c88ed9d2000"
      },
      "execution_count": null,
      "outputs": [
        {
          "output_type": "stream",
          "name": "stdout",
          "text": [
            "Enter your monthly salary: 30000\n",
            "Enter your credit score: 700\n",
            "Enter your age: 22\n",
            " You are eligible for the loan.\n"
          ]
        }
      ]
    },
    {
      "cell_type": "code",
      "source": [],
      "metadata": {
        "id": "vgFNm1t5PDoa"
      },
      "execution_count": null,
      "outputs": []
    }
  ]
}